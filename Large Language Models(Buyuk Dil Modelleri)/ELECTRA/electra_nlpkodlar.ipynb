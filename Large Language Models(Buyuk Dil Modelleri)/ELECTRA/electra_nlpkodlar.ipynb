{
  "nbformat": 4,
  "nbformat_minor": 0,
  "metadata": {
    "colab": {
      "provenance": []
    },
    "kernelspec": {
      "name": "python3",
      "display_name": "Python 3"
    },
    "language_info": {
      "name": "python"
    }
  },
  "cells": [
    {
      "cell_type": "code",
      "execution_count": null,
      "metadata": {
        "id": "hfzt8wdged_k"
      },
      "outputs": [],
      "source": []
    },
    {
      "cell_type": "code",
      "execution_count": null,
      "metadata": {
        "colab": {
          "base_uri": "https://localhost:8080/",
          "height": 1000,
          "referenced_widgets": [
            "1f3b5a0d5935413ab4246d75604e4f6b",
            "73a545ed5f87476aba22a2ec4a474ab3",
            "86ed57267b1c492284fb5292e5128f60",
            "80b36ea867bc431e90218c6d4c8d1c5e",
            "2c3e104576fd48a990e45f38987357a0",
            "4ca811e3828d402fb015efd7208bcffc",
            "6d6e5d2c335d45799bc21cac7e054631",
            "ac4565e7167e4caa97db617254c8bcd0",
            "42b36fd55572463b9aed369ae02b2906",
            "182a1987c9a84916b537b97e0c9ee3ca",
            "31d4537f04a24a6ebf191b659d4e66f8",
            "8ff21da8ea624f5d991b1c678702c313",
            "a30556ca5f244b69b2a1b21b1d1fac13",
            "96ff94f640b94b86bb51dcae81aeb0c2",
            "30559ce78a9a4e1d9ac51b32a5f341f4",
            "500d0e3ddd524916b875d16c9da8ae52",
            "2370b881bc304a06be9a1f7dec7be8b0",
            "b12b65ae12df48c48012439de9022c96",
            "afcdfd7409a947efb231d2987cf72ce8",
            "5323534b9ba04e23ba25fd0ba97247ed",
            "e355b02519164740869478d0715f48cc",
            "75a8f60d27fe4b7e9561efb53a69d59b",
            "44e08e2f02c14e3198e4ef1c9c39e72e",
            "fdcb406d9f304de680bfd6b6c13a230a",
            "879442adca304cc680ff2b5da3a106b5",
            "d3c2b4c8e5eb420f934f09fa6d1f4067",
            "5215b32e1af44b89b7cf72533f1a2fcd",
            "526cdc7c14f4457ba5ce2f7bf2390a25",
            "0f78eaf9ffb04b97af33e16723d6ff18",
            "16f78e34e90f4b0d81324a354a62f0cc",
            "ee1bb56729394e688719207e61fb68b5",
            "81b815571b0648a381b9b0f8e5e7c9a5",
            "5b439e94b2e445f188b292d656bfb506",
            "ae036652ffbf4f1f91a770847781c423",
            "e28bd77cfa68446c8b1ddc184e6ab913",
            "3cf1f185fac94308bef938011728e514",
            "18d677de847f4f2d8f4674f1eaa19388",
            "c7b156c1465646168e616e4dd9b14a32",
            "ac2630e1a4b34777bc9836587307e3ad",
            "7be4f9c8f86a416db50dd57005ec37a5",
            "81f016d95eff4b3789d128e1260f0dff",
            "d2fc3daac20549b889a1c6fad1e16dfd",
            "29d0b52f677a4dfdbeb27787e4973b49",
            "021e2694dded4576945c7cd635e1547e",
            "3f0c52b1e0d944b59269ea488fe584c6",
            "97c659a9d63947e8956f025541bde78f",
            "9cf183b62fee4030b7ab716cc64751d2",
            "35ba27be99574f24a19ac8ca5e426108",
            "be99cd93efd146c8b4302985b8c9eed9",
            "524d0c2b7d5a4aab90c45799417168d0",
            "abec7fd68807413cac974aae61abb659",
            "1c760788ee544033bd2ecd83c9fe788c",
            "95c8cb49f5a14139b03cfd5226354774",
            "bcf78ba799bb438eba85b7356f9d4b65",
            "df0d7b3a721b4dc3acee1ea690b2cc8b"
          ]
        },
        "id": "KG7-qR9hYVjv",
        "outputId": "6aa6e469-ea72-4b28-e9ca-65d74a883146"
      },
      "outputs": [
        {
          "output_type": "stream",
          "name": "stderr",
          "text": [
            "/usr/local/lib/python3.10/dist-packages/huggingface_hub/utils/_token.py:89: UserWarning: \n",
            "The secret `HF_TOKEN` does not exist in your Colab secrets.\n",
            "To authenticate with the Hugging Face Hub, create a token in your settings tab (https://huggingface.co/settings/tokens), set it as secret in your Google Colab and restart your session.\n",
            "You will be able to reuse this secret in all of your notebooks.\n",
            "Please note that authentication is recommended but still optional to access public models or datasets.\n",
            "  warnings.warn(\n"
          ]
        },
        {
          "output_type": "display_data",
          "data": {
            "text/plain": [
              "tokenizer_config.json:   0%|          | 0.00/48.0 [00:00<?, ?B/s]"
            ],
            "application/vnd.jupyter.widget-view+json": {
              "version_major": 2,
              "version_minor": 0,
              "model_id": "1f3b5a0d5935413ab4246d75604e4f6b"
            }
          },
          "metadata": {}
        },
        {
          "output_type": "display_data",
          "data": {
            "text/plain": [
              "vocab.txt:   0%|          | 0.00/232k [00:00<?, ?B/s]"
            ],
            "application/vnd.jupyter.widget-view+json": {
              "version_major": 2,
              "version_minor": 0,
              "model_id": "8ff21da8ea624f5d991b1c678702c313"
            }
          },
          "metadata": {}
        },
        {
          "output_type": "display_data",
          "data": {
            "text/plain": [
              "tokenizer.json:   0%|          | 0.00/466k [00:00<?, ?B/s]"
            ],
            "application/vnd.jupyter.widget-view+json": {
              "version_major": 2,
              "version_minor": 0,
              "model_id": "44e08e2f02c14e3198e4ef1c9c39e72e"
            }
          },
          "metadata": {}
        },
        {
          "output_type": "display_data",
          "data": {
            "text/plain": [
              "config.json:   0%|          | 0.00/666 [00:00<?, ?B/s]"
            ],
            "application/vnd.jupyter.widget-view+json": {
              "version_major": 2,
              "version_minor": 0,
              "model_id": "ae036652ffbf4f1f91a770847781c423"
            }
          },
          "metadata": {}
        },
        {
          "output_type": "display_data",
          "data": {
            "text/plain": [
              "pytorch_model.bin:   0%|          | 0.00/440M [00:00<?, ?B/s]"
            ],
            "application/vnd.jupyter.widget-view+json": {
              "version_major": 2,
              "version_minor": 0,
              "model_id": "3f0c52b1e0d944b59269ea488fe584c6"
            }
          },
          "metadata": {}
        },
        {
          "output_type": "stream",
          "name": "stderr",
          "text": [
            "Some weights of ElectraForSequenceClassification were not initialized from the model checkpoint at google/electra-base-discriminator and are newly initialized: ['classifier.dense.bias', 'classifier.dense.weight', 'classifier.out_proj.bias', 'classifier.out_proj.weight']\n",
            "You should probably TRAIN this model on a down-stream task to be able to use it for predictions and inference.\n",
            "/usr/local/lib/python3.10/dist-packages/transformers/optimization.py:591: FutureWarning: This implementation of AdamW is deprecated and will be removed in a future version. Use the PyTorch implementation torch.optim.AdamW instead, or set `no_deprecation_warning=True` to disable this warning\n",
            "  warnings.warn(\n"
          ]
        },
        {
          "output_type": "stream",
          "name": "stdout",
          "text": [
            "Epoch 1/3 - Loss: 0.9705623984336853\n",
            "Epoch 2/3 - Loss: 0.4796381890773773\n",
            "Epoch 3/3 - Loss: 1.4804497957229614\n"
          ]
        },
        {
          "output_type": "display_data",
          "data": {
            "text/plain": [
              "<Figure size 640x480 with 2 Axes>"
            ],
            "image/png": "[encoded data removed]"
          },
          "metadata": {}
        },
        {
          "output_type": "stream",
          "name": "stdout",
          "text": [
            "              precision    recall  f1-score   support\n",
            "\n",
            "       korku       0.94      0.88      0.91       616\n",
            "   küçümseme       0.75      0.43      0.55       602\n",
            "    mutluluk       0.86      0.68      0.76       602\n",
            "        öfke       0.69      0.71      0.70       596\n",
            "      üzüntü       0.53      0.91      0.67       621\n",
            "   şaşkınlık       0.96      0.88      0.91       602\n",
            "\n",
            "    accuracy                           0.75      3639\n",
            "   macro avg       0.79      0.75      0.75      3639\n",
            "weighted avg       0.79      0.75      0.75      3639\n",
            "\n"
          ]
        }
      ],
      "source": [
        "import pandas as pd\n",
        "import numpy as np\n",
        "import torch\n",
        "from transformers import ElectraTokenizer, ElectraForSequenceClassification\n",
        "from sklearn.model_selection import train_test_split\n",
        "from sklearn.preprocessing import LabelEncoder\n",
        "from sklearn.metrics import confusion_matrix, classification_report\n",
        "import seaborn as sns\n",
        "import matplotlib.pyplot as plt\n",
        "from torch.utils.data import DataLoader, TensorDataset, RandomSampler, SequentialSampler\n",
        "from transformers import AdamW\n",
        "\n",
        "# 1. Verilerin Yüklenmesi ve Hazırlanması\n",
        "df = pd.read_excel('/content/sample_data/duygular_stemmed.xlsx')  # Excel dosyanızın adını girin\n",
        "\n",
        "# Eksik veya boş değerleri kontrol etme ve temizleme\n",
        "df.dropna(subset=['comments'], inplace=True)\n",
        "\n",
        "comments = df['comments'].astype(str).tolist()  # Metinleri string olarak alma\n",
        "labels = df['label']\n",
        "\n",
        "# Etiketleri sayısal hale getirme\n",
        "encoder = LabelEncoder()\n",
        "encoded_labels = encoder.fit_transform(labels)\n",
        "\n",
        "# Model ve Tokenizer'ı yükleme\n",
        "model_name = 'google/electra-base-discriminator'\n",
        "tokenizer = ElectraTokenizer.from_pretrained(model_name)\n",
        "model = ElectraForSequenceClassification.from_pretrained(model_name, num_labels=6)\n",
        "\n",
        "# Tokenizasyon ve padding\n",
        "def preprocess_data(texts, tokenizer, max_length=128):\n",
        "    inputs = tokenizer(\n",
        "        texts,\n",
        "        max_length=max_length,\n",
        "        padding='max_length',\n",
        "        truncation=True,\n",
        "        return_tensors='pt'\n",
        "    )\n",
        "    return inputs['input_ids'], inputs['attention_mask']\n",
        "\n",
        "input_ids, attention_masks = preprocess_data(comments, tokenizer)\n",
        "\n",
        "# Veriyi eğitim ve test setlerine ayırma\n",
        "X_train, X_test, y_train, y_test = train_test_split(input_ids, encoded_labels, test_size=0.2, random_state=42)\n",
        "train_masks, test_masks, _, _ = train_test_split(attention_masks, attention_masks, test_size=0.2, random_state=42)\n",
        "\n",
        "# Etiketleri tensora dönüştürme\n",
        "y_train = torch.tensor(y_train, dtype=torch.long)\n",
        "y_test = torch.tensor(y_test, dtype=torch.long)\n",
        "\n",
        "# Veriyi DataLoader'a dönüştürme\n",
        "batch_size = 16\n",
        "\n",
        "train_data = TensorDataset(X_train, train_masks, y_train)\n",
        "train_sampler = RandomSampler(train_data)\n",
        "train_dataloader = DataLoader(train_data, sampler=train_sampler, batch_size=batch_size)\n",
        "\n",
        "test_data = TensorDataset(X_test, test_masks, y_test)\n",
        "test_sampler = SequentialSampler(test_data)\n",
        "test_dataloader = DataLoader(test_data, sampler=test_sampler, batch_size=batch_size)\n",
        "\n",
        "# Eğitim parametreleri\n",
        "optimizer = AdamW(model.parameters(), lr=2e-5)\n",
        "\n",
        "# Eğitim döngüsü\n",
        "epochs = 3\n",
        "for epoch in range(epochs):\n",
        "    model.train()\n",
        "    for batch in train_dataloader:\n",
        "        b_input_ids, b_input_mask, b_labels = batch\n",
        "        optimizer.zero_grad()\n",
        "        outputs = model(input_ids=b_input_ids, attention_mask=b_input_mask, labels=b_labels)\n",
        "        loss = outputs.loss\n",
        "        loss.backward()\n",
        "        optimizer.step()\n",
        "    print(f\"Epoch {epoch+1}/{epochs} - Loss: {loss.item()}\")\n",
        "\n",
        "# Modeli değerlendirme\n",
        "model.eval()\n",
        "predictions, true_labels = [], []\n",
        "for batch in test_dataloader:\n",
        "    b_input_ids, b_input_mask, b_labels = batch\n",
        "    with torch.no_grad():\n",
        "        outputs = model(input_ids=b_input_ids, attention_mask=b_input_mask)\n",
        "    logits = outputs.logits\n",
        "    predicted_labels = torch.argmax(logits, dim=-1)\n",
        "    predictions.append(predicted_labels.cpu().numpy())\n",
        "    true_labels.append(b_labels.cpu().numpy())\n",
        "\n",
        "# Performans değerlendirme\n",
        "predictions = [item for sublist in predictions for item in sublist]\n",
        "true_labels = [item for sublist in true_labels for item in sublist]\n",
        "\n",
        "# Confusion matrix oluşturma\n",
        "conf_matrix = confusion_matrix(true_labels, predictions)\n",
        "sns.heatmap(conf_matrix, annot=True, fmt='d', cmap='Blues')\n",
        "plt.xlabel('Predicted Labels')\n",
        "plt.ylabel('True Labels')\n",
        "plt.title('Confusion Matrix')\n",
        "plt.show()\n",
        "\n",
        "# Sınıflandırma raporu oluşturma\n",
        "report = classification_report(true_labels, predictions, target_names=encoder.classes_)\n",
        "print(report)\n"
      ]
    }
  ]
}